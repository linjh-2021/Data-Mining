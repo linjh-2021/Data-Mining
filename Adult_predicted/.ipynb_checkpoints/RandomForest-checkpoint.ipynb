{
 "cells": [
  {
   "cell_type": "code",
   "execution_count": 12,
   "id": "406b02cc",
   "metadata": {},
   "outputs": [],
   "source": [
    "import pandas as pd \n",
    "import numpy as np\n",
    "import csv \n",
    "from sklearn.ensemble import RandomForestClassifier"
   ]
  },
  {
   "cell_type": "code",
   "execution_count": 13,
   "id": "facc0f0f",
   "metadata": {},
   "outputs": [
    {
     "name": "stdout",
     "output_type": "stream",
     "text": [
      "(32561, 102) (16281, 102) (32561,) (16281,)\n"
     ]
    }
   ],
   "source": [
    "def add_missing_columns(d, columns) :\n",
    "    missing_col = set(columns) - set(d.columns)\n",
    "    for col in missing_col :\n",
    "        d[col] = 0\n",
    "        \n",
    "def fix_columns(d, columns):  \n",
    "    add_missing_columns(d, columns)\n",
    "    assert(set(columns) - set(d.columns) == set())\n",
    "    d = d[columns]\n",
    "    \n",
    "    return d\n",
    "\n",
    "def data_process(df, model) :\n",
    "    df.replace(\" ?\", pd.NaT, inplace = True)\n",
    "    if model == 'train' :\n",
    "        df.replace(\" >50K\", 1, inplace = True)\n",
    "        df.replace(\" <=50K\", 0, inplace = True)\n",
    "    if model == 'test':\n",
    "        df.replace(\" >50K.\", 1, inplace = True)\n",
    "        df.replace(\" <=50K.\", 0, inplace = True)\n",
    "    trans = {'workclass' : df['workclass'].mode()[0], 'occupation' : df['occupation'].mode()[0], 'native-country' : df['native-country'].mode()[0]}\n",
    "    df.fillna(trans, inplace = True)\n",
    "\n",
    "    df.drop('fnlwgt', axis = 1, inplace = True)\n",
    "    df.drop('capital-gain', axis = 1, inplace = True)\n",
    "    df.drop('capital-loss', axis = 1, inplace = True)\n",
    "#         print(df)\n",
    "\n",
    "    df_object_col = [col for col in df.columns if df[col].dtype.name == 'object']\n",
    "    df_int_col = [col for col in df.columns if df[col].dtype.name != 'object' and col != 'income']\n",
    "    target = df[\"income\"]\n",
    "    dataset = pd.concat([df[df_int_col], pd.get_dummies(df[df_object_col])], axis = 1)\n",
    "\n",
    "    return target, dataset\n",
    "        \n",
    "\n",
    "def Adult_data() :\n",
    "\n",
    "    df_train = pd.read_csv('adult.csv', header = None, names = ['age', 'workclass', 'fnlwgt', 'education', 'education-num', 'marital-status', 'occupation', 'relationship',  'race', 'sex', 'capital-gain', 'capital-loss', 'hours-per-week', 'native-country', 'income'])\n",
    "    df_test = pd.read_csv('data.test', header = None, skiprows = 1, names = ['age', 'workclass', 'fnlwgt', 'education', 'education-num', 'marital-status', 'occupation', 'relationship',  'race', 'sex', 'capital-gain', 'capital-loss', 'hours-per-week', 'native-country', 'income'])\n",
    "\n",
    "    train_target, train_dataset = data_process(df_train, 'train')\n",
    "    test_target, test_dataset = data_process(df_test, 'test')\n",
    "#         进行独热编码对齐\n",
    "    test_dataset = fix_columns(test_dataset, train_dataset.columns)\n",
    "    columns = train_dataset.columns\n",
    "#         print(df[\"income\"])\n",
    "\n",
    "    train_target, test_target = np.array(train_target), np.array(test_target)\n",
    "    train_dataset, test_dataset = np.array(train_dataset), np.array(test_dataset)\n",
    "        \n",
    "    return train_dataset, train_target, test_dataset, test_target, columns\n",
    "\n",
    "train_dataset, train_target, test_dataset, test_target, columns = Adult_data()\n",
    "print(train_dataset.shape, test_dataset.shape, train_target.shape, test_target.shape)"
   ]
  },
  {
   "cell_type": "markdown",
   "id": "4dd767c4",
   "metadata": {},
   "source": [
    "用随机森林模型进行分类，并保存结果"
   ]
  },
  {
   "cell_type": "code",
   "execution_count": 14,
   "id": "44eb76c1",
   "metadata": {},
   "outputs": [
    {
     "name": "stdout",
     "output_type": "stream",
     "text": [
      "0.8172102450709416\n",
      "[0 0 0 ... 1 0 1]\n"
     ]
    }
   ],
   "source": [
    "classes = [' <=50K', ' >50K']\n",
    "rf = RandomForestClassifier(n_estimators = 100, random_state = 0)\n",
    "rf = rf.fit(train_dataset, train_target)\n",
    "score = rf.score(test_dataset, test_target)\n",
    "print(score)\n",
    "\n",
    "pred = rf.predict(test_dataset)\n",
    "print(pred)\n",
    "\n",
    "with open('Predict/RandomForest.csv', 'w', newline = '') as file :\n",
    "    writer = csv.writer(file)\n",
    "    writer.writerow(['id', 'result_pred'])\n",
    "    for i, result in enumerate(pred) :\n",
    "        writer.writerow([i, classes[result]])"
   ]
  }
 ],
 "metadata": {
  "kernelspec": {
   "display_name": "Python 3",
   "language": "python",
   "name": "python3"
  },
  "language_info": {
   "codemirror_mode": {
    "name": "ipython",
    "version": 3
   },
   "file_extension": ".py",
   "mimetype": "text/x-python",
   "name": "python",
   "nbconvert_exporter": "python",
   "pygments_lexer": "ipython3",
   "version": "3.8.8"
  },
  "toc": {
   "base_numbering": 1,
   "nav_menu": {},
   "number_sections": true,
   "sideBar": true,
   "skip_h1_title": false,
   "title_cell": "Table of Contents",
   "title_sidebar": "Contents",
   "toc_cell": false,
   "toc_position": {},
   "toc_section_display": true,
   "toc_window_display": false
  }
 },
 "nbformat": 4,
 "nbformat_minor": 5
}
