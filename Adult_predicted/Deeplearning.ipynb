{
 "cells": [
  {
   "cell_type": "markdown",
   "id": "ac19b2a3",
   "metadata": {},
   "source": [
    "导入相关包"
   ]
  },
  {
   "cell_type": "code",
   "execution_count": 1,
   "id": "df35936d",
   "metadata": {},
   "outputs": [],
   "source": [
    "import pandas as pd \n",
    "import numpy as np\n",
    "import os \n",
    "import torch\n",
    "import torch.nn as nn\n",
    "import torch.optim as optim\n",
    "import torch.nn.functional as F\n",
    "import csv\n",
    "from torch.utils.tensorboard import SummaryWriter\n",
    "from torch.utils.data import Dataset, DataLoader"
   ]
  },
  {
   "cell_type": "markdown",
   "id": "7e30b73a",
   "metadata": {},
   "source": [
    "数据预处理，要注意的是训练集和测试集进行独热编码之后可能形状不一样，所以要将他们进行配对；再者是因为我们要给缺失某列的数据进行增加全为零的列，奇怪的是当从DataFrame类型转到Numpy类型时全为零的列会全部变成nan，所以还要重新nan的列转成零。否则在预测的过程网络的输出会全部为nan。本次实验将训练集进行2 : 9的数据划分，2份作为验证集。"
   ]
  },
  {
   "cell_type": "code",
   "execution_count": 2,
   "id": "fce14411",
   "metadata": {},
   "outputs": [
    {
     "name": "stdout",
     "output_type": "stream",
     "text": [
      "torch.Size([26048, 102]) torch.int64\n",
      "torch.Size([6513, 102]) torch.int64\n",
      "torch.Size([16281, 102]) torch.int64\n"
     ]
    }
   ],
   "source": [
    "def add_missing_columns(d, columns) :\n",
    "    missing_col = set(columns) - set(d.columns)\n",
    "    for col in missing_col :\n",
    "        d[col] = 0\n",
    "        \n",
    "def fix_columns(d, columns):  \n",
    "    add_missing_columns(d, columns)\n",
    "    assert(set(columns) - set(d.columns) == set())\n",
    "    d = d[columns]\n",
    "    return d\n",
    "\n",
    "def data_process(df, model) :\n",
    "    df.replace(\" ?\", pd.NaT, inplace = True)\n",
    "    if model == 'train' :\n",
    "        df.replace(\" >50K\", 1, inplace = True)\n",
    "        df.replace(\" <=50K\", 0, inplace = True)\n",
    "    if model == 'test':\n",
    "        df.replace(\" >50K.\", 1, inplace = True)\n",
    "        df.replace(\" <=50K.\", 0, inplace = True)\n",
    "        \n",
    "    trans = {'workclass' : df['workclass'].mode()[0], 'occupation' : df['occupation'].mode()[0], 'native-country' : df['native-country'].mode()[0]}\n",
    "    df.fillna(trans, inplace = True)\n",
    "    df.drop('fnlwgt', axis = 1, inplace = True)\n",
    "    df.drop('capital-gain', axis = 1, inplace = True)\n",
    "    df.drop('capital-loss', axis = 1, inplace = True)\n",
    "\n",
    "    df_object_col = [col for col in df.columns if df[col].dtype.name == 'object']\n",
    "    df_int_col = [col for col in df.columns if df[col].dtype.name != 'object' and col != 'income']\n",
    "    target = df[\"income\"]\n",
    "    dataset = pd.concat([df[df_int_col], pd.get_dummies(df[df_object_col])], axis = 1)\n",
    "\n",
    "    return target, dataset\n",
    "        \n",
    "\n",
    "class Adult_data(Dataset) :\n",
    "    def __init__(self, model) :\n",
    "        super(Adult_data, self).__init__()\n",
    "        self.model = model\n",
    "        \n",
    "        df_train = pd.read_csv('adult.csv', header = None, names = ['age', 'workclass', 'fnlwgt', 'education', 'education-num', 'marital-status', 'occupation', 'relationship',  'race', 'sex', 'capital-gain', 'capital-loss', 'hours-per-week', 'native-country', 'income'])\n",
    "        df_test = pd.read_csv('data.test', header = None, skiprows = 1, names = ['age', 'workclass', 'fnlwgt', 'education', 'education-num', 'marital-status', 'occupation', 'relationship',  'race', 'sex', 'capital-gain', 'capital-loss', 'hours-per-week', 'native-country', 'income'])\n",
    "        \n",
    "        train_target, train_dataset = data_process(df_train, 'train')\n",
    "        test_target, test_dataset = data_process(df_test, 'test')\n",
    "        \n",
    "#         进行独热编码对齐\n",
    "        test_dataset = fix_columns(test_dataset, train_dataset.columns)\n",
    "#         print(df[\"income\"])\n",
    "        train_dataset = train_dataset.apply(lambda x : (x - x.mean()) / x.std())\n",
    "        test_dataset = test_dataset.apply(lambda x : (x - x.mean()) / x.std())\n",
    "#         print(train_dataset['native-country_ Holand-Netherlands'])\n",
    "        \n",
    "        train_target, test_target = np.array(train_target), np.array(test_target)\n",
    "        train_dataset, test_dataset = np.array(train_dataset, dtype = np.float32), np.array(test_dataset, dtype = np.float32)\n",
    "        if model == 'test' :\n",
    "            isnan = np.isnan(test_dataset)\n",
    "            test_dataset[np.where(isnan)] = 0.0\n",
    "#             print(test_dataset[ : , 75])\n",
    "        \n",
    "        if model == 'test':\n",
    "            self.target = torch.tensor(test_target, dtype = torch.int64)\n",
    "            self.dataset = torch.FloatTensor(test_dataset)\n",
    "        else :\n",
    "#           前百分之八十的数据作为训练集，其余作为验证集\n",
    "            if model == 'train' : \n",
    "                self.target = torch.tensor(train_target, dtype = torch.int64)[ : int(len(train_dataset) * 0.8)]\n",
    "                self.dataset = torch.FloatTensor(train_dataset)[ : int(len(train_target) * 0.8)]\n",
    "            else :\n",
    "                self.target = torch.tensor(train_target, dtype = torch.int64)[int(len(train_target) * 0.8) : ] \n",
    "                self.dataset = torch.FloatTensor(train_dataset)[int(len(train_dataset) * 0.8) : ]\n",
    "        print(self.dataset.shape, self.target.dtype)   \n",
    "        \n",
    "    def __getitem__(self, item) :\n",
    "        return self.dataset[item], self.target[item]\n",
    "    \n",
    "    def __len__(self) :\n",
    "        return len(self.dataset)\n",
    "    \n",
    "train_dataset = Adult_data(model = 'train')\n",
    "val_dataset = Adult_data(model = 'val')\n",
    "test_dataset = Adult_data(model = 'test')\n",
    "\n",
    "train_loader = DataLoader(train_dataset, batch_size = 64, shuffle = True, drop_last = False)\n",
    "val_loader = DataLoader(val_dataset, batch_size = 64, shuffle = False, drop_last = False)\n",
    "test_loader = DataLoader(test_dataset, batch_size = 64, shuffle = False, drop_last = False)"
   ]
  },
  {
   "cell_type": "markdown",
   "id": "3c187231",
   "metadata": {},
   "source": [
    "构建网络，因为是简单的二分类，这里使用了两层感知机网络，后面做对结果进行softmax归一化。"
   ]
  },
  {
   "cell_type": "code",
   "execution_count": 3,
   "id": "e8be505d",
   "metadata": {},
   "outputs": [],
   "source": [
    "class Adult_Model(nn.Module) :\n",
    "    def __init__(self) :\n",
    "        super(Adult_Model, self).__init__()\n",
    "        self.net = nn.Sequential(nn.Linear(102, 64), \n",
    "                                nn.ReLU(), \n",
    "                                nn.Linear(64, 32), \n",
    "                                nn.ReLU(),\n",
    "                                nn.Linear(32, 2)\n",
    "                                )\n",
    "    def forward(self, x) :\n",
    "        out = self.net(x) \n",
    "#         print(out)\n",
    "        return F.softmax(out)"
   ]
  },
  {
   "cell_type": "markdown",
   "id": "86c3d94e",
   "metadata": {},
   "source": [
    "训练及验证，每经过一个epoch，就进行一次损失比较，当val_loss更小时，保存模型，直至迭代结束。"
   ]
  },
  {
   "cell_type": "code",
   "execution_count": 4,
   "id": "a9fa2ccf",
   "metadata": {
    "scrolled": true
   },
   "outputs": [
    {
     "name": "stderr",
     "output_type": "stream",
     "text": [
      "<ipython-input-3-34906da3126c>:13: UserWarning: Implicit dimension choice for softmax has been deprecated. Change the call to include dim=X as an argument.\n",
      "  return F.softmax(out)\n"
     ]
    },
    {
     "name": "stdout",
     "output_type": "stream",
     "text": [
      "epoch : 1, train_loss : 0.009698766862621179, train_acc : 0.7546068796068796\n",
      "epoch : 2, train_loss : 0.008849774435830716, train_acc : 0.7604038697788698\n",
      "epoch : 3, train_loss : 0.008572402777475207, train_acc : 0.7604038697788698\n",
      "epoch : 4, train_loss : 0.00841165453090312, train_acc : 0.7604038697788698\n",
      "epoch : 5, train_loss : 0.008271820490827432, train_acc : 0.7604038697788698\n",
      "epoch : 6, train_loss : 0.008132823367651176, train_acc : 0.7604038697788698\n",
      "epoch : 7, train_loss : 0.007982730547410118, train_acc : 0.7605958230958231\n",
      "epoch : 8, train_loss : 0.007808244138434346, train_acc : 0.7963375307125307\n",
      "epoch : 9, train_loss : 0.007641532746685957, train_acc : 0.8250153562653563\n",
      "epoch : 10, train_loss : 0.0075265988364303146, train_acc : 0.8296990171990172\n",
      "epoch : 11, train_loss : 0.0074580969227162125, train_acc : 0.8308891277641277\n",
      "epoch : 12, train_loss : 0.007414823630252619, train_acc : 0.8321560196560197\n",
      "epoch : 13, train_loss : 0.00738567921289538, train_acc : 0.8329238329238329\n",
      "epoch : 14, train_loss : 0.007364339969768497, train_acc : 0.8339987714987716\n",
      "epoch : 15, train_loss : 0.0073481121761793, train_acc : 0.8344594594594594\n",
      "epoch : 16, train_loss : 0.007334871163834298, train_acc : 0.8346898034398035\n",
      "epoch : 17, train_loss : 0.007323988018836597, train_acc : 0.8358415233415234\n",
      "epoch : 18, train_loss : 0.007314964715867356, train_acc : 0.8369548525798526\n",
      "epoch : 19, train_loss : 0.007307408774541622, train_acc : 0.8369548525798526\n",
      "epoch : 20, train_loss : 0.00730080225594177, train_acc : 0.8374539312039312\n",
      "epoch : 21, train_loss : 0.00729526227102123, train_acc : 0.8373387592137592\n",
      "epoch : 22, train_loss : 0.00728986680814287, train_acc : 0.8380297911547911\n",
      "epoch : 23, train_loss : 0.007285054011101072, train_acc : 0.8384520884520884\n",
      "epoch : 24, train_loss : 0.007280639440269743, train_acc : 0.838835995085995\n",
      "epoch : 25, train_loss : 0.007276548530348103, train_acc : 0.8388743857493858\n",
      "epoch : 26, train_loss : 0.007272242404822563, train_acc : 0.8393734643734644\n",
      "epoch : 27, train_loss : 0.007269021918818684, train_acc : 0.8396805896805897\n",
      "epoch : 28, train_loss : 0.007265461040134439, train_acc : 0.8397957616707616\n",
      "epoch : 29, train_loss : 0.0072617307579927425, train_acc : 0.8401028869778869\n",
      "epoch : 30, train_loss : 0.007259237101754626, train_acc : 0.8401796683046683\n"
     ]
    }
   ],
   "source": [
    "device = torch.device('cuda' if torch.cuda.is_available() else \"cpu\")\n",
    "model = Adult_Model().to(device)\n",
    "optimizer = optim.SGD(model.parameters(), lr = 0.001, momentum = 0.9)\n",
    "criterion = nn.CrossEntropyLoss()\n",
    "max_epoch = 30\n",
    "classes = [' <=50K', ' >50K']\n",
    "mse_loss = 1000000\n",
    "os.makedirs('MyModels', exist_ok = True)\n",
    "writer = SummaryWriter(log_dir = 'logs')\n",
    "\n",
    "\n",
    "for epoch in range(max_epoch) :\n",
    "    \n",
    "    train_loss = 0.0\n",
    "    train_acc = 0.0\n",
    "    model.train()\n",
    "    for x, label in train_loader :\n",
    "        x, label = x.to(device), label.to(device)\n",
    "        optimizer.zero_grad()\n",
    "        \n",
    "        out = model(x)\n",
    "        loss = criterion(out, label)\n",
    "        train_loss += loss.item()\n",
    "        loss.backward()\n",
    "        \n",
    "        _, pred = torch.max(out, 1)\n",
    "#         print(pred)\n",
    "        num_correct = (pred == label).sum().item()\n",
    "        acc = num_correct / x.shape[0]\n",
    "        train_acc += acc\n",
    "        optimizer.step()\n",
    "        \n",
    "    print(f'epoch : {epoch + 1}, train_loss : {train_loss / len(train_loader.dataset)}, train_acc : {train_acc / len(train_loader)}')\n",
    "    writer.add_scalar('train_loss', train_loss / len(train_loader.dataset), epoch)\n",
    "    \n",
    "    with torch.no_grad() :\n",
    "        total_loss = []\n",
    "        model.eval()\n",
    "        for x, label in val_loader :\n",
    "            x, label = x.to(device), label.to(device)\n",
    "            out = model(x)\n",
    "            loss = criterion(out, label)\n",
    "            total_loss.append(loss.item())\n",
    "        \n",
    "        val_loss = sum(total_loss) / len(total_loss)\n",
    "    \n",
    "    if val_loss < mse_loss :\n",
    "        mse_loss = val_loss \n",
    "        torch.save(model.state_dict(), 'MyModels/Deeplearning_Model.pth')\n",
    "\n",
    "del model"
   ]
  },
  {
   "attachments": {
    "image.png": {
     "image/png": "[encoded data removed]"
    }
   },
   "cell_type": "markdown",
   "id": "3797cc0f",
   "metadata": {},
   "source": [
    "![image.png](attachment:image.png)"
   ]
  },
  {
   "cell_type": "markdown",
   "id": "6c6f2c95",
   "metadata": {},
   "source": [
    "预测并保存结果"
   ]
  },
  {
   "cell_type": "code",
   "execution_count": 5,
   "id": "80eba1d9",
   "metadata": {},
   "outputs": [
    {
     "name": "stderr",
     "output_type": "stream",
     "text": [
      "<ipython-input-3-34906da3126c>:13: UserWarning: Implicit dimension choice for softmax has been deprecated. Change the call to include dim=X as an argument.\n",
      "  return F.softmax(out)\n"
     ]
    },
    {
     "name": "stdout",
     "output_type": "stream",
     "text": [
      "test_loss : 0.007335228695490753, test_acc : 0.8346127450980392\n"
     ]
    }
   ],
   "source": [
    "best_model = Adult_Model().to(device)\n",
    "ckpt = torch.load('MyModels/Deeplearning_Model.pth', map_location='cpu')\n",
    "best_model.load_state_dict(ckpt)\n",
    "\n",
    "test_loss = 0.0\n",
    "test_acc = 0.0\n",
    "best_model.eval()\n",
    "result = []\n",
    "\n",
    "for x, label in test_loader :\n",
    "    x, label = x.to(device), label.to(device)\n",
    "    \n",
    "    out = best_model(x)\n",
    "    loss = criterion(out, label)\n",
    "    test_loss += loss.item()\n",
    "    _, pred = torch.max(out, dim = 1)\n",
    "    result.append(pred.detach())\n",
    "    num_correct = (pred == label).sum().item()\n",
    "    acc = num_correct / x.shape[0]\n",
    "    test_acc += acc\n",
    "\n",
    "print(f'test_loss : {test_loss / len(test_loader.dataset)}, test_acc : {test_acc / len(test_loader)}')\n",
    "\n",
    "result = torch.cat(result, dim = 0).cpu().numpy()\n",
    "with open('Predict/Deeplearing.csv', 'w', newline = '') as file :\n",
    "    writer = csv.writer(file)\n",
    "    writer.writerow(['id', 'pred_result'])\n",
    "    for i, pred in enumerate(result) :\n",
    "        writer.writerow([i, classes[pred]])"
   ]
  },
  {
   "cell_type": "markdown",
   "id": "7dae3565",
   "metadata": {},
   "source": [
    "预测正确率能够达到83%，如果能再调一些参数，正确率会提高的"
   ]
  },
  {
   "cell_type": "code",
   "execution_count": null,
   "id": "40fe534a",
   "metadata": {},
   "outputs": [],
   "source": []
  }
 ],
 "metadata": {
  "kernelspec": {
   "display_name": "Python 3",
   "language": "python",
   "name": "python3"
  },
  "language_info": {
   "codemirror_mode": {
    "name": "ipython",
    "version": 3
   },
   "file_extension": ".py",
   "mimetype": "text/x-python",
   "name": "python",
   "nbconvert_exporter": "python",
   "pygments_lexer": "ipython3",
   "version": "3.8.8"
  },
  "toc": {
   "base_numbering": 1,
   "nav_menu": {},
   "number_sections": true,
   "sideBar": true,
   "skip_h1_title": false,
   "title_cell": "Table of Contents",
   "title_sidebar": "Contents",
   "toc_cell": false,
   "toc_position": {},
   "toc_section_display": true,
   "toc_window_display": false
  }
 },
 "nbformat": 4,
 "nbformat_minor": 5
}
